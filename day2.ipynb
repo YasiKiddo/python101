{
 "cells": [
  {
   "cell_type": "markdown",
   "id": "07488046",
   "metadata": {},
   "source": [
    "## Learning with Me"
   ]
  },
  {
   "cell_type": "markdown",
   "id": "d2a3baed",
   "metadata": {},
   "source": []
  },
  {
   "cell_type": "code",
   "execution_count": 17,
   "id": "7217dad0",
   "metadata": {},
   "outputs": [
    {
     "name": "stdout",
     "output_type": "stream",
     "text": [
      "hey,Mri\n"
     ]
    }
   ],
   "source": [
    "def name_input():\n",
    "\n",
    "    name= input(\"Enter your name:\")\n",
    "    print(\"hey,\" +name)\n",
    "    \n",
    "name_input()   "
   ]
  },
  {
   "cell_type": "code",
   "execution_count": null,
   "id": "a97fa878",
   "metadata": {},
   "outputs": [],
   "source": [
    "def additon(a=10, b=20):\n",
    "    return a+b\n",
    "result =additon\n",
    "    print()"
   ]
  }
 ],
 "metadata": {
  "kernelspec": {
   "display_name": ".venv",
   "language": "python",
   "name": "python3"
  },
  "language_info": {
   "codemirror_mode": {
    "name": "ipython",
    "version": 3
   },
   "file_extension": ".py",
   "mimetype": "text/x-python",
   "name": "python",
   "nbconvert_exporter": "python",
   "pygments_lexer": "ipython3",
   "version": "3.12.10"
  }
 },
 "nbformat": 4,
 "nbformat_minor": 5
}
